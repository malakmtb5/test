{
 "cells": [
  {
   "cell_type": "markdown",
   "id": "a8403c2e-6079-4cae-b1b7-4b5d4650aef7",
   "metadata": {},
   "source": [
    "# Data Science Tools and Ecosystem"
   ]
  },
  {
   "cell_type": "markdown",
   "id": "81e70bca-b1d6-4277-8016-db83a7dd71b2",
   "metadata": {},
   "source": [
    "In this notebook, Data Science Tools and Ecosystem are summarized."
   ]
  },
  {
   "cell_type": "markdown",
   "id": "cf17c475-0289-44e4-b321-09392da4a788",
   "metadata": {},
   "source": [
    "**Objectives**:\n",
    "- list data science languages\n",
    "-  list data science libraries\n",
    "- code cell to multiply and add numbers\n",
    "- code cell to convert minutes to hours"
   ]
  },
  {
   "cell_type": "markdown",
   "id": "108ebfb0-b91b-4c62-a805-0aff0b9ce351",
   "metadata": {
    "tags": []
   },
   "source": [
    " Some of the popular languages that Data Scientists use are: \n",
    "1. python\n",
    "2. R \n",
    "3. Julia"
   ]
  },
  {
   "cell_type": "markdown",
   "id": "d4c90d85-267a-4a4a-abe8-fa9b60ba6fde",
   "metadata": {},
   "source": [
    "Some of the commonly used libraries used by Data Scientists include:\n",
    "\n",
    "    1. Numpy\n",
    "    2. Pandas \n",
    "    3. Matplotlib\n",
    "    "
   ]
  },
  {
   "cell_type": "markdown",
   "id": "9dc10fe3-9b73-4a18-9599-c41e71e71966",
   "metadata": {},
   "source": [
    "|Data Science Tools | \n",
    "|-------------------|\n",
    "|Jupyter notebook| \n",
    "|Rstudio| \n",
    "|vscode|"
   ]
  },
  {
   "cell_type": "markdown",
   "id": "60752ac4-1fd5-4ba5-ac61-b02628e263ce",
   "metadata": {},
   "source": [
    "### Below are a few examples of evaluating arithmetic expressions in Python "
   ]
  },
  {
   "cell_type": "code",
   "execution_count": 34,
   "id": "57816246-f1c2-483b-88a7-3c4cd908c6f7",
   "metadata": {},
   "outputs": [
    {
     "data": {
      "text/plain": [
       "17"
      ]
     },
     "execution_count": 34,
     "metadata": {},
     "output_type": "execute_result"
    }
   ],
   "source": [
    "# This a simple arithmetic expression to mutiply then add integers\n",
    "(3*4)+5"
   ]
  },
  {
   "cell_type": "code",
   "execution_count": 35,
   "id": "90565e58-74f7-42f4-9c50-4bded4cb7a8c",
   "metadata": {},
   "outputs": [
    {
     "data": {
      "text/plain": [
       "3.3333333333333335"
      ]
     },
     "execution_count": 35,
     "metadata": {},
     "output_type": "execute_result"
    }
   ],
   "source": [
    "# This will convert 200 minutes to hours by diving by 60\n",
    "200/60"
   ]
  },
  {
   "cell_type": "markdown",
   "id": "6c4a4a9a-94bf-430c-ace7-f4beed56156f",
   "metadata": {},
   "source": [
    "## Author\n",
    "Malak MOUTAIB"
   ]
  },
  {
   "cell_type": "markdown",
   "id": "3ece1222-0626-442a-999c-f1dc3c3fbad7",
   "metadata": {},
   "source": []
  }
 ],
 "metadata": {
  "kernelspec": {
   "display_name": "Python",
   "language": "python",
   "name": "conda-env-python-py"
  },
  "language_info": {
   "codemirror_mode": {
    "name": "ipython",
    "version": 3
   },
   "file_extension": ".py",
   "mimetype": "text/x-python",
   "name": "python",
   "nbconvert_exporter": "python",
   "pygments_lexer": "ipython3",
   "version": "3.7.12"
  }
 },
 "nbformat": 4,
 "nbformat_minor": 5
}
